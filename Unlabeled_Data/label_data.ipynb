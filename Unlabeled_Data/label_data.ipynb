{
 "cells": [
  {
   "cell_type": "code",
   "execution_count": 47,
   "metadata": {},
   "outputs": [],
   "source": [
    "import os\n",
    "import pandas as pd"
   ]
  },
  {
   "cell_type": "code",
   "execution_count": 48,
   "metadata": {},
   "outputs": [],
   "source": [
    "# Define the directory path where the CSV files are located\n",
    "directory_path = os.path.join(os.getcwd(), 'data', 'to_label')\n",
    "\n",
    "# Initialize empty DataFrames\n",
    "df1 = pd.DataFrame()\n",
    "df2 = pd.DataFrame()\n",
    "df3 = pd.DataFrame()\n",
    "\n",
    "# Loop through the files in the directory\n",
    "for filename in os.listdir(directory_path):\n",
    "    if filename.endswith(\".csv\"):\n",
    "        # Construct the full path to the CSV file\n",
    "        file_path = os.path.join(directory_path, filename)\n",
    "        \n",
    "        # Read the CSV file into a DataFrame based on file name\n",
    "        if \"stock_tweets\" in filename:\n",
    "            df1 = pd.read_csv(file_path)\n",
    "        elif \"Tweet_filtered\" in filename:\n",
    "            df2 = pd.read_csv(file_path)\n",
    "        elif \"tweets_remaining\" in filename:\n",
    "            df3 = pd.read_csv(file_path)"
   ]
  },
  {
   "cell_type": "code",
   "execution_count": 49,
   "metadata": {},
   "outputs": [
    {
     "data": {
      "text/plain": [
       "0        Mainstream media has done an amazing job at br...\n",
       "1        Tesla delivery estimates are at around 364k fr...\n",
       "2        3/ Even if I include 63.0M unvested RSUs as of...\n",
       "3        @RealDanODowd @WholeMarsBlog @Tesla Hahaha why...\n",
       "4        @RealDanODowd @Tesla Stop trying to kill kids,...\n",
       "                               ...                        \n",
       "37417    Playing in the dirt and #chasingsunsets\\n@tesl...\n",
       "37418    I agree with @freshjiva that $TSLA ‘s EV busin...\n",
       "37419                               Hold. On. Tight. $TSLA\n",
       "37420    Get ready for a $TSLA _ _ _ _ _ _  Q3 delivery...\n",
       "37421    In other words, AMD has been giving Tesla pref...\n",
       "Name: text, Length: 37422, dtype: object"
      ]
     },
     "execution_count": 49,
     "metadata": {},
     "output_type": "execute_result"
    }
   ],
   "source": [
    "df1 = df1['text']\n",
    "df1"
   ]
  },
  {
   "cell_type": "code",
   "execution_count": 50,
   "metadata": {},
   "outputs": [
    {
     "data": {
      "text/plain": [
       "0          $GM $TSLA: Volkswagen Pushes 2014 Record Recal...\n",
       "1          Swing Trading: Up To 8.91% Return In 14 Days h...\n",
       "2          Swing Trading: Up To 8.91% Return In 14 Days h...\n",
       "3          Swing Trading: Up To 8.91% Return In 14 Days h...\n",
       "4          Swing Trading: Up To 8.91% Return In 14 Days h...\n",
       "                                 ...                        \n",
       "1123257    I'm getting wasted on NYE, and thanks to @NHTS...\n",
       "1123258                         $TSLA Very Interesting dude:\n",
       "1123259    If only 2020 brought more self-awareness to Te...\n",
       "1123260    In 2020 I may start Tweeting out positive news...\n",
       "1123261    Patiently Waiting for the no twitter sitter tw...\n",
       "Name: text, Length: 1123262, dtype: object"
      ]
     },
     "execution_count": 50,
     "metadata": {},
     "output_type": "execute_result"
    }
   ],
   "source": [
    "df2 = df2['text']\n",
    "df2"
   ]
  },
  {
   "cell_type": "code",
   "execution_count": 51,
   "metadata": {},
   "outputs": [
    {
     "data": {
      "text/plain": [
       "0        $UMRX bouncing. EXTREMELY OVERSOLD #Coronaviru...\n",
       "1        Traders, did you secure the 💰 this week? $SPY ...\n",
       "2        RT @vieiraUAE: Alex Vieira Tesla is the Next A...\n",
       "3        Dow gains 285 points to cap epic rally $AAPL $...\n",
       "4        Alex Vieira Tesla is the Next Apple Price Targ...\n",
       "                               ...                        \n",
       "60831    About an hour left before the \"Mid-week chart ...\n",
       "60832    Trading Summary - July 15, 2020\\n\\n7 Trades - ...\n",
       "60833    About an hour left before the \"Mid-week chart ...\n",
       "60834    RT @TATrades: Quick poll - how much do you (on...\n",
       "60835    lows. This is shaping up for another nice sell...\n",
       "Name: text, Length: 60836, dtype: object"
      ]
     },
     "execution_count": 51,
     "metadata": {},
     "output_type": "execute_result"
    }
   ],
   "source": [
    "df3 = df3['text']\n",
    "df3"
   ]
  },
  {
   "cell_type": "code",
   "execution_count": null,
   "metadata": {},
   "outputs": [],
   "source": [
    "combined_df = pd.concat([df1, df2, df3], ignore_index=True)\n",
    "\n",
    "# Specify the output file path for the combined DataFrame\n",
    "output_file_path = 'combined_unlabelled.csv'\n",
    "\n",
    "# Export the combined DataFrame to a CSV file\n",
    "combined_df.to_csv(output_file_path, index=False)"
   ]
  }
 ],
 "metadata": {
  "kernelspec": {
   "display_name": "stock",
   "language": "python",
   "name": "python3"
  },
  "language_info": {
   "codemirror_mode": {
    "name": "ipython",
    "version": 3
   },
   "file_extension": ".py",
   "mimetype": "text/x-python",
   "name": "python",
   "nbconvert_exporter": "python",
   "pygments_lexer": "ipython3",
   "version": "3.9.18"
  }
 },
 "nbformat": 4,
 "nbformat_minor": 2
}
