{
 "cells": [
  {
   "cell_type": "code",
   "execution_count": 1,
   "metadata": {},
   "outputs": [],
   "source": [
    "%load_ext autoreload\n",
    "%autoreload 2"
   ]
  },
  {
   "cell_type": "code",
   "execution_count": 2,
   "metadata": {},
   "outputs": [],
   "source": [
    "import yfinance as yf\n",
    "import pandas as pd\n",
    "import matplotlib.pyplot as plt\n",
    "import matplotlib.dates as mdates\n",
    "import os\n",
    "from helper import *\n",
    "\n",
    "current_path = os.getcwd()\n",
    "data_directory = os.path.join(current_path, \"data\")\n",
    "os.makedirs(data_directory, exist_ok=True)"
   ]
  },
  {
   "cell_type": "code",
   "execution_count": 3,
   "metadata": {},
   "outputs": [
    {
     "name": "stdout",
     "output_type": "stream",
     "text": [
      "[*********************100%%**********************]  1 of 1 completed\n",
      "Data fetched and saved for RIVN\n",
      "[*********************100%%**********************]  1 of 1 completed\n",
      "Data fetched and saved for BB\n",
      "[*********************100%%**********************]  1 of 1 completed\n",
      "Data fetched and saved for SOFI\n",
      "[*********************100%%**********************]  1 of 1 completed\n",
      "Data fetched and saved for GME\n",
      "[*********************100%%**********************]  1 of 1 completed\n",
      "Data fetched and saved for AMC\n",
      "[*********************100%%**********************]  1 of 1 completed\n",
      "Data fetched and saved for PLTR\n",
      "[*********************100%%**********************]  1 of 1 completed\n",
      "Data fetched and saved for TSLA\n",
      "[*********************100%%**********************]  1 of 1 completed\n",
      "Data fetched and saved for AAPL\n",
      "[*********************100%%**********************]  1 of 1 completed\n",
      "Data fetched and saved for MSFT\n",
      "[*********************100%%**********************]  1 of 1 completed\n",
      "Data fetched and saved for AMZN\n",
      "[*********************100%%**********************]  1 of 1 completed\n",
      "Data fetched and saved for GOOG\n",
      "[*********************100%%**********************]  1 of 1 completed\n",
      "Data fetched and saved for AMD\n",
      "[*********************100%%**********************]  1 of 1 completed\n",
      "Data fetched and saved for NVDA\n",
      "[*********************100%%**********************]  1 of 1 completed\n",
      "Data fetched and saved for QQQ\n",
      "[*********************100%%**********************]  1 of 1 completed\n",
      "Data fetched and saved for SPY\n",
      "[*********************100%%**********************]  1 of 1 completed\n",
      "Data fetched and saved for DIA\n",
      "[*********************100%%**********************]  1 of 1 completed\n",
      "Data fetched and saved for ^IRX\n"
     ]
    }
   ],
   "source": [
    "stock_data = {}\n",
    "for stock in STOCKS:\n",
    "    try:\n",
    "        data_path = os.path.join(data_directory, f\"{stock}_{START_DATE}_{END_DATE}.csv\")\n",
    "        if not os.path.exists(data_path):\n",
    "            for item in os.listdir(os.path.join(current_path, \"data\")):\n",
    "                if stock in item and os.path.isfile(os.path.join(current_path, \"data\", item)):\n",
    "                    os.remove(os.path.join(current_path, \"data\", item))\n",
    "            data = yf.download(stock, start=START_DATE, end=END_DATE)\n",
    "            data = data.reset_index()\n",
    "            data['Date'] = pd.to_datetime(data['Date'])\n",
    "            data.to_csv(data_path, index=False)\n",
    "        else:\n",
    "            data = pd.read_csv(data_path)\n",
    "            data['Date'] = pd.to_datetime(data['Date'])\n",
    "        stock_data[stock] = data\n",
    "        \n",
    "        print(f\"Data fetched and saved for {stock}\")\n",
    "    except Exception as e:\n",
    "        print(f\"Error fetching data for {stock}: {str(e)}\")"
   ]
  },
  {
   "cell_type": "code",
   "execution_count": null,
   "metadata": {},
   "outputs": [
    {
     "ename": "",
     "evalue": "",
     "output_type": "error",
     "traceback": [
      "\u001b[1;31mThe kernel failed to start as the Python Environment '~\\AppData\\Local\\Programs\\Python\\Python39\\python.exe' is no longer available. Consider selecting another kernel or refreshing the list of Python Environments."
     ]
    }
   ],
   "source": [
    "fig, axes = plt.subplots(len(stock_data), 2, figsize=(14, 20))\n",
    "\n",
    "fig.suptitle('Stock Volume and Amount Across Time', fontsize=16, y=1.02)\n",
    "\n",
    "for i, stock in enumerate(stock_data.keys()):\n",
    "    try:\n",
    "        data = stock_data[stock]\n",
    "        data['Amount'] = (data['Open'] + data['High'] + data['Low'] + data['Close']) / 4 * data['Volume']\n",
    "        axes[i, 0].plot(data.index, data['Volume'], label='Volume', color='blue')\n",
    "        axes[i, 0].set_title(f'{stock} Volume', fontsize=12)\n",
    "        axes[i, 0].set_xlabel('Date')\n",
    "        axes[i, 0].set_ylabel('Volume')\n",
    "        axes[i, 0].grid(True)\n",
    "        axes[i, 1].plot(data.index, data['Amount'], label='Amount', color='green')\n",
    "        axes[i, 1].set_title(f'{stock} Amount', fontsize=12)\n",
    "        axes[i, 1].set_xlabel('Date')\n",
    "        axes[i, 1].set_ylabel('Amount')\n",
    "        axes[i, 1].grid(True)\n",
    "        \n",
    "    except Exception as e:\n",
    "        print(f\"Error plotting data for {stock}: {str(e)}\")\n",
    "\n",
    "plt.tight_layout()\n",
    "plt.show()\n"
   ]
  },
  {
   "cell_type": "code",
   "execution_count": null,
   "metadata": {},
   "outputs": [
    {
     "ename": "",
     "evalue": "",
     "output_type": "error",
     "traceback": [
      "\u001b[1;31mThe kernel failed to start as the Python Environment '~\\AppData\\Local\\Programs\\Python\\Python39\\python.exe' is no longer available. Consider selecting another kernel or refreshing the list of Python Environments."
     ]
    }
   ],
   "source": [
    "fig, axes = plt.subplots(len(stock_data), figsize=(15, 10*len(stock_data)))\n",
    "\n",
    "fig.suptitle('Stock Volume and Close Price Across Time', fontsize=20, y=0.92)\n",
    "\n",
    "for i, stock in enumerate(stock_data.keys()):\n",
    "    try:\n",
    "        # Access the stock's data from the dictionary\n",
    "        data = stock_data[stock]\n",
    "        \n",
    "        # Plot 'Volume' on the primary y-axis\n",
    "        axes[i].bar(data.index, data['Volume'], label=f'{stock} Volume', color='blue', alpha=0.6)\n",
    "        axes[i].set_xlabel('Date', fontsize=14)\n",
    "        axes[i].set_ylabel('Volume', color='blue', fontsize=14)\n",
    "        axes[i].grid(True, axis='y', linestyle='--', linewidth=0.7, alpha=0.7)\n",
    "        axes[i].tick_params(axis='y', labelcolor='blue')\n",
    "        axes[i].xaxis.set_major_locator(mdates.MonthLocator())  # Set locator to month\n",
    "        axes[i].xaxis.set_major_formatter(mdates.DateFormatter('%b %Y'))  # Format date to month and year\n",
    "        axes[i].tick_params(axis='x', rotation=45)  # Rotate date labels for better readability\n",
    "        \n",
    "        # Create a secondary y-axis for 'Close Price'\n",
    "        ax2 = axes[i].twinx()\n",
    "        ax2.plot(data.index, data['Close'], label=f'{stock} Close Price', color='red', linewidth=2)\n",
    "        ax2.set_ylabel('Close Price', color='red', fontsize=14)\n",
    "        ax2.tick_params(axis='y', labelcolor='red')\n",
    "        \n",
    "        # Show legends for 'Volume' and 'Close Price'\n",
    "        lines1, labels1 = axes[i].get_legend_handles_labels()\n",
    "        lines2, labels2 = ax2.get_legend_handles_labels()\n",
    "        axes[i].legend(lines1 + lines2, labels1 + labels2, loc='upper left', fontsize=12)\n",
    "        \n",
    "        axes[i].set_title(f'{stock}', fontsize=16, fontweight='bold', pad=10)\n",
    "        \n",
    "    except Exception as e:\n",
    "        print(f\"Error plotting data for {stock}: {str(e)}\")\n",
    "\n",
    "plt.tight_layout()\n",
    "plt.subplots_adjust(top=0.88)  # Adjust the top spacing to accommodate the suptitle\n",
    "plt.show()\n"
   ]
  }
 ],
 "metadata": {
  "kernelspec": {
   "display_name": "Python 3",
   "language": "python",
   "name": "python3"
  },
  "language_info": {
   "codemirror_mode": {
    "name": "ipython",
    "version": 3
   },
   "file_extension": ".py",
   "mimetype": "text/x-python",
   "name": "python",
   "nbconvert_exporter": "python",
   "pygments_lexer": "ipython3",
   "version": "3.10.10"
  },
  "orig_nbformat": 4
 },
 "nbformat": 4,
 "nbformat_minor": 2
}
