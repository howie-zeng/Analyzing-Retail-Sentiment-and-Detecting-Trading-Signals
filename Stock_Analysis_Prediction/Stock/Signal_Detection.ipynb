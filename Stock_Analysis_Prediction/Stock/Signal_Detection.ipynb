{
 "cells": [
  {
   "cell_type": "markdown",
   "metadata": {},
   "source": [
    "# Loading"
   ]
  },
  {
   "cell_type": "code",
   "execution_count": 3,
   "metadata": {},
   "outputs": [
    {
     "name": "stdout",
     "output_type": "stream",
     "text": [
      "Using device: cuda\n"
     ]
    }
   ],
   "source": [
    "import helper as hp\n",
    "\n",
    "import os\n",
    "from abc import ABC, abstractmethod\n",
    "from collections import defaultdict\n",
    "import warnings\n",
    "\n",
    "import matplotlib.pyplot as plt\n",
    "import matplotlib.dates as mdates\n",
    "import mplfinance as mpf\n",
    "import numpy as np\n",
    "import pandas as pd\n",
    "import seaborn as sns\n",
    "import xgboost as xgb\n",
    "from sklearn.metrics import accuracy_score, classification_report, confusion_matrix, mean_squared_error, r2_score\n",
    "from sklearn.model_selection import TimeSeriesSplit\n",
    "from sklearn.preprocessing import LabelEncoder\n",
    "from tqdm import tqdm\n",
    "from statsmodels.tsa.stattools import adfuller, kpss\n",
    "from models import * \n",
    "\n",
    "current_path = os.getcwd()\n",
    "random_state = hp.RANDOM_STATE\n",
    "\n",
    "current_path = os.getcwd()\n",
    "random_state = hp.RANDOM_STATE\n",
    "STOCKS = [\"TSLA\", \"AAPL\", 'QQQ', \"SPY\", \"MSFT\", \"AMZN\", \"GOOG\", \"DIA\", \"^IRX\"]\n",
    "START_DATE = hp.START_DATE\n",
    "END_DATE = hp.END_DATE\n",
    "device = torch.device(\"cuda\" if torch.cuda.is_available() else \"cpu\")\n",
    "print(f\"Using device: {device}\")"
   ]
  },
  {
   "cell_type": "code",
   "execution_count": 5,
   "metadata": {},
   "outputs": [
    {
     "name": "stdout",
     "output_type": "stream",
     "text": [
      "Data fetched for TSLA\n",
      "Data fetched for AAPL\n",
      "Data fetched for QQQ\n",
      "Data fetched for SPY\n",
      "Data fetched for MSFT\n",
      "Data fetched for AMZN\n",
      "Data fetched for GOOG\n",
      "Data fetched for DIA\n",
      "Data fetched for ^IRX\n"
     ]
    }
   ],
   "source": [
    "# data fetching \n",
    "stock_data = {}\n",
    "for stock in STOCKS:\n",
    "    data_path = os.path.join(current_path, \"data\", f\"{stock}_{START_DATE}_{END_DATE}.csv\")\n",
    "    data = pd.read_csv(data_path)\n",
    "    stock_data[stock] = data\n",
    "stock_data = hp.preprocess_stock_data(stock_data, STOCKS)"
   ]
  },
  {
   "cell_type": "markdown",
   "metadata": {},
   "source": [
    "# Non-Stationary"
   ]
  },
  {
   "cell_type": "code",
   "execution_count": null,
   "metadata": {},
   "outputs": [],
   "source": [
    "fromDate = \"2010-01-01\"\n",
    "toDate = '2023-01-01'\n",
    "# fromDate = \"2015-01-01\"\n",
    "# toDate = '2017-01-01'\n",
    "stock = 'AAPL'\n",
    "window_size = 200\n",
    "lag = 5\n",
    "starting_funds = 50000\n",
    "loss_fn = 'reg:squarederror' #'reg:pseudohubererror'\n",
    "\n",
    "xgboost_model = XGBoostModel(loss_fn)\n",
    "xgboost_stock_predictor = StockPredictor(stock_data, xgboost_model, stock=stock, fromDate=fromDate, toDate=toDate, window_size=window_size, lag=lag, stionary=False)\n",
    "xgboost_stock_predictor.fit_predict()\n",
    "xgboost_stock_predictor.print_metrics()"
   ]
  },
  {
   "cell_type": "markdown",
   "metadata": {},
   "source": [
    "## XGBoost"
   ]
  },
  {
   "cell_type": "markdown",
   "metadata": {},
   "source": [
    "## Random Forest"
   ]
  },
  {
   "cell_type": "markdown",
   "metadata": {},
   "source": [
    "## LSTM"
   ]
  },
  {
   "cell_type": "markdown",
   "metadata": {},
   "source": [
    "# Stationary"
   ]
  },
  {
   "cell_type": "markdown",
   "metadata": {},
   "source": [
    "## Preprocessing & Stationarity Check"
   ]
  },
  {
   "cell_type": "markdown",
   "metadata": {},
   "source": [
    "## XGBoost"
   ]
  },
  {
   "cell_type": "markdown",
   "metadata": {},
   "source": [
    "## Random Forest"
   ]
  },
  {
   "cell_type": "markdown",
   "metadata": {},
   "source": [
    "## LSTM"
   ]
  }
 ],
 "metadata": {
  "kernelspec": {
   "display_name": "Python 3",
   "language": "python",
   "name": "python3"
  },
  "language_info": {
   "codemirror_mode": {
    "name": "ipython",
    "version": 3
   },
   "file_extension": ".py",
   "mimetype": "text/x-python",
   "name": "python",
   "nbconvert_exporter": "python",
   "pygments_lexer": "ipython3",
   "version": "3.9.13"
  }
 },
 "nbformat": 4,
 "nbformat_minor": 2
}
