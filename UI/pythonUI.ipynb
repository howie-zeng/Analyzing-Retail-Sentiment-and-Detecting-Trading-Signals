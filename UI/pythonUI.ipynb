{
 "cells": [
  {
   "cell_type": "code",
   "execution_count": 14,
   "metadata": {},
   "outputs": [],
   "source": [
    "import ipywidgets as widgets\n",
    "from IPython.display import display\n",
    "import pandas as pd\n",
    "import matplotlib.pyplot as plt"
   ]
  },
  {
   "cell_type": "code",
   "execution_count": 15,
   "metadata": {},
   "outputs": [],
   "source": [
    "%matplotlib inline"
   ]
  },
  {
   "cell_type": "code",
   "execution_count": 16,
   "metadata": {},
   "outputs": [],
   "source": [
    "file_path = 'data/AAPL_2010-01-01_2023-01-01.csv'\n",
    "stock_data = pd.read_csv(file_path)\n",
    "stock_data['Date'] = pd.to_datetime(stock_data['Date'])"
   ]
  },
  {
   "cell_type": "code",
   "execution_count": 17,
   "metadata": {},
   "outputs": [
    {
     "data": {
      "application/vnd.jupyter.widget-view+json": {
       "model_id": "5f9353e3325d413ea0753f7523e5f4b4",
       "version_major": 2,
       "version_minor": 0
      },
      "text/plain": [
       "DatePicker(value=Timestamp('2010-01-04 00:00:00'), description='Start Date', step=1)"
      ]
     },
     "metadata": {},
     "output_type": "display_data"
    },
    {
     "data": {
      "application/vnd.jupyter.widget-view+json": {
       "model_id": "45a9e6c9cb54451ebeb0fedd68479ef8",
       "version_major": 2,
       "version_minor": 0
      },
      "text/plain": [
       "DatePicker(value=Timestamp('2022-12-30 00:00:00'), description='End Date', step=1)"
      ]
     },
     "metadata": {},
     "output_type": "display_data"
    },
    {
     "data": {
      "application/vnd.jupyter.widget-view+json": {
       "model_id": "52543c2c90b14e07aae9739a7ad71c2b",
       "version_major": 2,
       "version_minor": 0
      },
      "text/plain": [
       "FloatRangeSlider(value=(6.85892915725708, 182.00999450683597), continuous_update=False, description='Price Ran…"
      ]
     },
     "metadata": {},
     "output_type": "display_data"
    },
    {
     "data": {
      "application/vnd.jupyter.widget-view+json": {
       "model_id": "cd2dafbe86bf4f07a077a198225fc669",
       "version_major": 2,
       "version_minor": 0
      },
      "text/plain": [
       "FloatRangeSlider(value=(35195900.0, 1880998000.0), continuous_update=False, description='Volume Range:', max=1…"
      ]
     },
     "metadata": {},
     "output_type": "display_data"
    },
    {
     "data": {
      "application/vnd.jupyter.widget-view+json": {
       "model_id": "5fab0c3b3a9d4ec081d5e6b22982e460",
       "version_major": 2,
       "version_minor": 0
      },
      "text/plain": [
       "Button(description='Apply Filters', style=ButtonStyle())"
      ]
     },
     "metadata": {},
     "output_type": "display_data"
    },
    {
     "data": {
      "application/vnd.jupyter.widget-view+json": {
       "model_id": "2146ad29890b4cd3b2d3a02741b2157c",
       "version_major": 2,
       "version_minor": 0
      },
      "text/plain": [
       "Output()"
      ]
     },
     "metadata": {},
     "output_type": "display_data"
    }
   ],
   "source": [
    "# UI Components\n",
    "start_date_picker = widgets.DatePicker(\n",
    "    description='Start Date',\n",
    "    value=stock_data['Date'].min(),\n",
    "    disabled=False\n",
    ")\n",
    "\n",
    "end_date_picker = widgets.DatePicker(\n",
    "    description='End Date',\n",
    "    value=stock_data['Date'].max(),\n",
    "    disabled=False\n",
    ")\n",
    "\n",
    "price_range_slider = widgets.FloatRangeSlider(\n",
    "    value=[stock_data['Close'].min(), stock_data['Close'].max()],\n",
    "    min=stock_data['Close'].min(),\n",
    "    max=stock_data['Close'].max(),\n",
    "    step=0.1,\n",
    "    description='Price Range:',\n",
    "    continuous_update=False\n",
    ")\n",
    "\n",
    "volume_range_slider = widgets.FloatRangeSlider(\n",
    "    value=[stock_data['Volume'].min(), stock_data['Volume'].max()],\n",
    "    min=stock_data['Volume'].min(),\n",
    "    max=stock_data['Volume'].max(),\n",
    "    step=10000,\n",
    "    description='Volume Range:',\n",
    "    continuous_update=False\n",
    ")\n",
    "\n",
    "filter_button = widgets.Button(description='Apply Filters')\n",
    "output = widgets.Output()\n",
    "\n",
    "# Function to Update Output\n",
    "def filter_data(b):\n",
    "    with output:\n",
    "        output.clear_output()\n",
    "        filtered_data = stock_data[\n",
    "            (stock_data['Date'] >= pd.to_datetime(start_date_picker.value)) & \n",
    "            (stock_data['Date'] <= pd.to_datetime(end_date_picker.value)) &\n",
    "            (stock_data['Close'] >= price_range_slider.value[0]) & \n",
    "            (stock_data['Close'] <= price_range_slider.value[1]) &\n",
    "            (stock_data['Volume'] >= volume_range_slider.value[0]) & \n",
    "            (stock_data['Volume'] <= volume_range_slider.value[1])\n",
    "        ]\n",
    "        display(filtered_data)\n",
    "\n",
    "filter_button.on_click(filter_data)\n",
    "\n",
    "\n",
    "# Function to Update Output\n",
    "def filter_data(b):\n",
    "    with output:\n",
    "        output.clear_output()\n",
    "        filtered_data = stock_data[\n",
    "            (stock_data['Date'] >= pd.to_datetime(start_date_picker.value)) & \n",
    "            (stock_data['Date'] <= pd.to_datetime(end_date_picker.value)) &\n",
    "            (stock_data['Close'] >= price_range_slider.value[0]) & \n",
    "            (stock_data['Close'] <= price_range_slider.value[1]) &\n",
    "            (stock_data['Volume'] >= volume_range_slider.value[0]) & \n",
    "            (stock_data['Volume'] <= volume_range_slider.value[1])\n",
    "        ]\n",
    "\n",
    "        if filtered_data.empty:\n",
    "            print(\"No data to display for the selected filters.\")\n",
    "            return\n",
    "\n",
    "        # Display the filtered data\n",
    "        display(filtered_data)\n",
    "\n",
    "        # Plot the stock price\n",
    "        plt.figure(figsize=(10, 4))\n",
    "        plt.plot(filtered_data['Date'], filtered_data['Close'], label='Close Price')\n",
    "        plt.xlabel('Date')\n",
    "        plt.ylabel('Price')\n",
    "        plt.title('AAPL Stock Price')\n",
    "        plt.legend()\n",
    "        plt.show()\n",
    "\n",
    "        # Display statistics\n",
    "        display(filtered_data.describe())\n",
    "\n",
    "# Display UI\n",
    "display(start_date_picker, end_date_picker, price_range_slider, volume_range_slider, filter_button, output)\n"
   ]
  }
 ],
 "metadata": {
  "kernelspec": {
   "display_name": "stock",
   "language": "python",
   "name": "python3"
  },
  "language_info": {
   "codemirror_mode": {
    "name": "ipython",
    "version": 3
   },
   "file_extension": ".py",
   "mimetype": "text/x-python",
   "name": "python",
   "nbconvert_exporter": "python",
   "pygments_lexer": "ipython3",
   "version": "3.10.11"
  }
 },
 "nbformat": 4,
 "nbformat_minor": 2
}
