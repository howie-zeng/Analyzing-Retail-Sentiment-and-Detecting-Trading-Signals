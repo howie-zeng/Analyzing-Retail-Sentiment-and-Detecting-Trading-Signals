{
 "cells": [
  {
   "cell_type": "code",
   "execution_count": 4,
   "metadata": {},
   "outputs": [],
   "source": [
    "import os\n",
    "import pandas as pd\n",
    "import matplotlib.pyplot as plt\n",
    "\n",
    "import plotly.io as pio\n",
    "import plotly.graph_objects as go\n",
    "import ipywidgets as widgets\n",
    "from IPython.display import display, clear_output, HTML"
   ]
  },
  {
   "cell_type": "code",
   "execution_count": 5,
   "metadata": {},
   "outputs": [],
   "source": [
    "%matplotlib inline"
   ]
  },
  {
   "cell_type": "code",
   "execution_count": 6,
   "metadata": {},
   "outputs": [],
   "source": [
    "stock_files = [\n",
    "    {'file_path': 'data/AAPL.csv', 'stock_name': 'AAPL'},\n",
    "    {'file_path': 'data/AMC.csv', 'stock_name': 'AMC'},\n",
    "    {'file_path': 'data/AMZN.csv', 'stock_name': 'AMZN'},\n",
    "    {'file_path': 'data/BB.csv', 'stock_name': 'BB'},\n",
    "    {'file_path': 'data/GME.csv', 'stock_name': 'GME'},\n",
    "    {'file_path': 'data/GOOG.csv', 'stock_name': 'GOOG'},\n",
    "    {'file_path': 'data/MSFT.csv', 'stock_name': 'MSFT'},\n",
    "    {'file_path': 'data/PLTR.csv', 'stock_name': 'PLTR'},\n",
    "    {'file_path': 'data/RIVN.csv', 'stock_name': 'RIVN'},\n",
    "    {'file_path': 'data/SOFI.csv', 'stock_name': 'SOFI'},\n",
    "    {'file_path': 'data/TSLA.csv', 'stock_name': 'TSLA'}\n",
    "]"
   ]
  },
  {
   "cell_type": "code",
   "execution_count": 7,
   "metadata": {},
   "outputs": [
    {
     "data": {
      "application/vnd.jupyter.widget-view+json": {
       "model_id": "c2da547398c2475986f81f51468ea1fa",
       "version_major": 2,
       "version_minor": 0
      },
      "text/plain": [
       "VBox(children=(HBox(children=(Label(value='Select Stock:'), Dropdown(description='Select Stock:', options=(('A…"
      ]
     },
     "metadata": {},
     "output_type": "display_data"
    }
   ],
   "source": [
    "# Load the selected stock data\n",
    "selected_stock_data = None\n",
    "\n",
    "# UI Components\n",
    "stock_dropdown = widgets.Dropdown(\n",
    "    options=[(stock['stock_name'], i) for i, stock in enumerate(stock_files)],\n",
    "    description='Select Stock:',\n",
    "    disabled=False,\n",
    ")\n",
    "\n",
    "start_date_picker = widgets.DatePicker(\n",
    "    description='Start Date',\n",
    "    disabled=False\n",
    ")\n",
    "\n",
    "end_date_picker = widgets.DatePicker(\n",
    "    description='End Date',\n",
    "    disabled=False\n",
    ")\n",
    "\n",
    "# Set default values for price and volume range sliders\n",
    "default_min_adj_close = 0  # Change this variable name\n",
    "default_max_adj_close = 100  # Change this variable name\n",
    "\n",
    "price_range_slider = widgets.FloatRangeSlider(\n",
    "    value=[default_min_adj_close, default_max_adj_close],  # Change this variable name\n",
    "    min=default_min_adj_close,  # Change this variable name\n",
    "    max=default_max_adj_close,  # Change this variable name\n",
    "    step=0.1,\n",
    "    description='Price Range:',  # You can keep this as 'Price Range'\n",
    "    continuous_update=False\n",
    ")\n",
    "\n",
    "chart_type_dropdown = widgets.Dropdown(\n",
    "    options=['Line Chart', 'Candlestick Chart'],\n",
    "    value='Line Chart',\n",
    "    description='Chart Type:',\n",
    "    disabled=False,\n",
    ")\n",
    "\n",
    "def load_selected_stock_data(change):\n",
    "    global selected_stock_data\n",
    "    stock_index = change.new\n",
    "    if stock_index is not None:\n",
    "        file_path = stock_files[stock_index]['file_path']\n",
    "        selected_stock_data = pd.read_csv(file_path)\n",
    "        selected_stock_data['Date'] = pd.to_datetime(selected_stock_data['Date'])\n",
    "\n",
    "        # Set the start and end date pickers to the dataset's start and end dates\n",
    "        if not selected_stock_data.empty:\n",
    "            min_date = selected_stock_data['Date'].min()\n",
    "            max_date = selected_stock_data['Date'].max()\n",
    "            start_date_picker.value = min_date.date()\n",
    "            end_date_picker.value = max_date.date()\n",
    "\n",
    "        # Calculate Buy and Sell signals\n",
    "        selected_stock_data['Buy'] = selected_stock_data['Adj Close'] > selected_stock_data['Open']  \n",
    "        selected_stock_data['Sell'] = selected_stock_data['Adj Close'] < selected_stock_data['Open'] \n",
    "\n",
    "# Create labels for the widgets\n",
    "stock_label = widgets.Label(value='Select Stock:')\n",
    "date_range_label = widgets.Label(value='Date Range:')\n",
    "price_range_label = widgets.Label(value='Price Range:')\n",
    "chart_type_label = widgets.Label(value='Chart Type:')\n",
    "apply_filters_label = widgets.Label(value='Apply Filters:')\n",
    "\n",
    "# Observers and UI Components\n",
    "stock_dropdown.observe(load_selected_stock_data, names='value')\n",
    "\n",
    "date_range_box = widgets.HBox([start_date_picker, end_date_picker])\n",
    "price_range_box = widgets.HBox([price_range_slider])\n",
    "\n",
    "chart_options_box = widgets.HBox([chart_type_dropdown])\n",
    "\n",
    "filter_button = widgets.Button(description='Apply Filters')\n",
    "output = widgets.Output()\n",
    "\n",
    "# Function to filter and display data\n",
    "def filter_data(b):\n",
    "    with output:\n",
    "        # Close the previous figure\n",
    "        # plt.close()\n",
    "        plt.clf()\n",
    "        clear_output(wait=True)\n",
    "\n",
    "        if selected_stock_data is None or selected_stock_data.empty:\n",
    "            print(\"Please select a stock and load the data.\")\n",
    "            return\n",
    "\n",
    "        filtered_data = selected_stock_data[\n",
    "            (selected_stock_data['Date'] >= pd.to_datetime(start_date_picker.value)) &\n",
    "            (selected_stock_data['Date'] <= pd.to_datetime(end_date_picker.value)) &\n",
    "            (selected_stock_data['Adj Close'] >= price_range_slider.value[0]) &  # Change 'Close' to 'Adj Close'\n",
    "            (selected_stock_data['Adj Close'] <= price_range_slider.value[1])  # Change 'Close' to 'Adj Close'\n",
    "        ]\n",
    "\n",
    "        if filtered_data.empty:\n",
    "            print(\"No data to display for the selected filters.\")\n",
    "            return\n",
    "\n",
    "        # Display Buy and Sell signals\n",
    "        buy_signals = filtered_data[filtered_data['Buy'].notna()]\n",
    "        sell_signals = filtered_data[filtered_data['Sell'].notna()]\n",
    "\n",
    "        if chart_type_dropdown.value == 'Line Chart':\n",
    "            plt.figure(figsize=(10, 4))\n",
    "            plt.plot(filtered_data['Date'], filtered_data['Adj Close'], label='Adj Close Price') \n",
    "\n",
    "            # Plot Buy/Sell signals\n",
    "            plt.scatter(buy_signals['Date'], buy_signals['Buys'], marker='^', color='green', label='Buy Signal', alpha=1) \n",
    "            plt.scatter(sell_signals['Date'], sell_signals['Sells'], marker='v', color='red', label='Sell Signal', alpha=1) \n",
    "\n",
    "            plt.xlabel('Date')\n",
    "            plt.ylabel('Price')\n",
    "            plt.title(f\"{stock_files[stock_dropdown.value]['stock_name']} Stock Price\")\n",
    "            plt.legend()\n",
    "            plt.show()\n",
    "\n",
    "        elif chart_type_dropdown.value == 'Candlestick Chart':\n",
    "            # Clear the Plotly figure if it exists\n",
    "            if 'fig' in locals():\n",
    "                fig = None\n",
    "\n",
    "            fig = go.Figure(data=[go.Candlestick(\n",
    "                x=filtered_data['Date'],\n",
    "                open=filtered_data['Open'],\n",
    "                high=filtered_data['High'],\n",
    "                low=filtered_data['Low'],\n",
    "                close=filtered_data['Adj Close']  # Change 'Close' to 'Adj Close'\n",
    "            )])\n",
    "\n",
    "            fig.update_layout(\n",
    "                title=f\"{stock_files[stock_dropdown.value]['stock_name']} Candlestick Chart\",\n",
    "                title_font=dict(color='white'),\n",
    "                title_x=0.5,\n",
    "                title_y=0.95,\n",
    "                xaxis_title='Date',\n",
    "                yaxis_title='Price',\n",
    "                xaxis_rangeslider_visible=False,\n",
    "                paper_bgcolor='rgba(0,0,0,0)',\n",
    "                plot_bgcolor='rgba(245, 245, 245, 1)',\n",
    "                margin=dict(l=40, r=40, t=40, b=40),\n",
    "                hovermode='closest',\n",
    "                xaxis=dict(\n",
    "                    showline=True,\n",
    "                    showgrid=False,\n",
    "                    showticklabels=True,\n",
    "                    tickfont=dict(color='white'),\n",
    "                    title_font=dict(color='white')\n",
    "                ),\n",
    "                yaxis=dict(\n",
    "                    showline=True,\n",
    "                    showgrid=True,\n",
    "                    showticklabels=True,\n",
    "                    gridcolor='gray',\n",
    "                    tickfont=dict(color='white'),\n",
    "                    title_font=dict(color='white')\n",
    "                ),\n",
    "                showlegend=True,\n",
    "                autosize=True,\n",
    "                legend_title_font=dict(color='white'),  # Set legend title color to white\n",
    "                legend_font=dict(color='white')\n",
    "            )\n",
    "\n",
    "            # Add Buy and Sell markers or annotations\n",
    "            fig.add_trace(go.Scatter(x=buy_signals['Date'], y=buy_signals['Buys'], mode='markers', name='Buy', marker=dict(color='green', size=10, symbol='triangle-up'))) \n",
    "            fig.add_trace(go.Scatter(x=sell_signals['Date'], y=sell_signals['Sells'], mode='markers', name='Sell', marker=dict(color='red', size=10, symbol='triangle-down'))) \n",
    "\n",
    "            fig.show()\n",
    "\n",
    "# Link the filter button to the filter_data function\n",
    "filter_button.on_click(filter_data)\n",
    "\n",
    "# Create a VBox to organize the widgets vertically\n",
    "ui = widgets.VBox([\n",
    "    widgets.HBox([stock_label, stock_dropdown]),\n",
    "    widgets.HBox([date_range_label, date_range_box]),\n",
    "    widgets.HBox([chart_type_label, chart_options_box]),\n",
    "    widgets.HBox([apply_filters_label, filter_button]),\n",
    "    output,\n",
    "])\n",
    "\n",
    "display(ui)"
   ]
  },
  {
   "cell_type": "markdown",
   "metadata": {},
   "source": []
  },
  {
   "cell_type": "code",
   "execution_count": 8,
   "metadata": {},
   "outputs": [
    {
     "data": {
      "application/vnd.jupyter.widget-view+json": {
       "model_id": "489b1dd59d304821be392ed9b402cf33",
       "version_major": 2,
       "version_minor": 0
      },
      "text/plain": [
       "Label(value='Select Stock:')"
      ]
     },
     "metadata": {},
     "output_type": "display_data"
    },
    {
     "data": {
      "application/vnd.jupyter.widget-view+json": {
       "model_id": "28e5c06af12d49a9a4afb6027979ba25",
       "version_major": 2,
       "version_minor": 0
      },
      "text/plain": [
       "Label(value='<i class=\"fa-solid fa-calendar-days\"></i>')"
      ]
     },
     "metadata": {},
     "output_type": "display_data"
    },
    {
     "data": {
      "application/vnd.jupyter.widget-view+json": {
       "model_id": "1a4ed47bd0db4fa081030ae5f1efb371",
       "version_major": 2,
       "version_minor": 0
      },
      "text/plain": [
       "Label(value='<i class=\"fa-solid fa-dollar-sign\"></i>')"
      ]
     },
     "metadata": {},
     "output_type": "display_data"
    },
    {
     "data": {
      "application/vnd.jupyter.widget-view+json": {
       "model_id": "1a8f2d15af8941b0a109d9727834cf4d",
       "version_major": 2,
       "version_minor": 0
      },
      "text/plain": [
       "Label(value='fa-solid fa-arrow-trend-up\"></i>')"
      ]
     },
     "metadata": {},
     "output_type": "display_data"
    },
    {
     "data": {
      "application/vnd.jupyter.widget-view+json": {
       "model_id": "cde3dde4bc7548f0b10eaf8a7a4a5ca6",
       "version_major": 2,
       "version_minor": 0
      },
      "text/plain": [
       "Label(value='<i class=\"fa-solid fa-chart-simple\"></i>')"
      ]
     },
     "metadata": {},
     "output_type": "display_data"
    },
    {
     "data": {
      "application/vnd.jupyter.widget-view+json": {
       "model_id": "45cc9afdeb7a4eb4bc5da17033e675fd",
       "version_major": 2,
       "version_minor": 0
      },
      "text/plain": [
       "Label(value='<i class=\"fas fa-filter\"></i>')"
      ]
     },
     "metadata": {},
     "output_type": "display_data"
    }
   ],
   "source": [
    "stock_label = widgets.Label(value='Select Stock:')\n",
    "date_range_label = widgets.Label(value=f'<i class=\"fa-solid fa-calendar-days\"></i>')\n",
    "price_range_label = widgets.Label(value=f'<i class=\"fa-solid fa-dollar-sign\"></i>')\n",
    "volume_range_label = widgets.Label(value=f'fa-solid fa-arrow-trend-up\"></i>')\n",
    "chart_type_label = widgets.Label(value=f'<i class=\"fa-solid fa-chart-simple\"></i>')\n",
    "apply_filters_label = widgets.Label(value=f'<i class=\"fas fa-filter\"></i>')\n",
    "\n",
    "display(stock_label)\n",
    "display(date_range_label)\n",
    "display(price_range_label)\n",
    "display(volume_range_label)\n",
    "display(chart_type_label)\n",
    "display(apply_filters_label)\n"
   ]
  },
  {
   "cell_type": "code",
   "execution_count": 9,
   "metadata": {},
   "outputs": [
    {
     "ename": "TypeError",
     "evalue": "HTML.__init__() got an unexpected keyword argument 'value'",
     "output_type": "error",
     "traceback": [
      "\u001b[1;31m---------------------------------------------------------------------------\u001b[0m",
      "\u001b[1;31mTypeError\u001b[0m                                 Traceback (most recent call last)",
      "\u001b[1;32md:\\Cornell\\course\\CS6386\\Analyzing-the-Correlation-Between-Retail-Traders--Sentiments-and-Equity-Market-Movements\\UI\\pythonUI6.ipynb Cell 7\u001b[0m line \u001b[0;36m3\n\u001b[0;32m      <a href='vscode-notebook-cell:/d%3A/Cornell/course/CS6386/Analyzing-the-Correlation-Between-Retail-Traders--Sentiments-and-Equity-Market-Movements/UI/pythonUI6.ipynb#X11sZmlsZQ%3D%3D?line=0'>1</a>\u001b[0m \u001b[39mfrom\u001b[39;00m \u001b[39mIPython\u001b[39;00m\u001b[39m.\u001b[39;00m\u001b[39mdisplay\u001b[39;00m \u001b[39mimport\u001b[39;00m display, HTML\n\u001b[1;32m----> <a href='vscode-notebook-cell:/d%3A/Cornell/course/CS6386/Analyzing-the-Correlation-Between-Retail-Traders--Sentiments-and-Equity-Market-Movements/UI/pythonUI6.ipynb#X11sZmlsZQ%3D%3D?line=2'>3</a>\u001b[0m stock_label \u001b[39m=\u001b[39m HTML(value\u001b[39m=\u001b[39;49m\u001b[39m'\u001b[39;49m\u001b[39m<span style=\u001b[39;49m\u001b[39m\"\u001b[39;49m\u001b[39mfont-family: FontAwesome;\u001b[39;49m\u001b[39m\"\u001b[39;49m\u001b[39m><i class=\u001b[39;49m\u001b[39m\"\u001b[39;49m\u001b[39mfa-solid fa-calendar-days\u001b[39;49m\u001b[39m\"\u001b[39;49m\u001b[39m></i></span> Select Stock:\u001b[39;49m\u001b[39m'\u001b[39;49m)\n\u001b[0;32m      <a href='vscode-notebook-cell:/d%3A/Cornell/course/CS6386/Analyzing-the-Correlation-Between-Retail-Traders--Sentiments-and-Equity-Market-Movements/UI/pythonUI6.ipynb#X11sZmlsZQ%3D%3D?line=3'>4</a>\u001b[0m date_range_label \u001b[39m=\u001b[39m HTML(value\u001b[39m=\u001b[39m\u001b[39m'\u001b[39m\u001b[39m<span style=\u001b[39m\u001b[39m\"\u001b[39m\u001b[39mfont-family: FontAwesome;\u001b[39m\u001b[39m\"\u001b[39m\u001b[39m><i class=\u001b[39m\u001b[39m\"\u001b[39m\u001b[39mfa-solid fa-calendar-days\u001b[39m\u001b[39m\"\u001b[39m\u001b[39m></i></span> Date Range:\u001b[39m\u001b[39m'\u001b[39m)\n\u001b[0;32m      <a href='vscode-notebook-cell:/d%3A/Cornell/course/CS6386/Analyzing-the-Correlation-Between-Retail-Traders--Sentiments-and-Equity-Market-Movements/UI/pythonUI6.ipynb#X11sZmlsZQ%3D%3D?line=4'>5</a>\u001b[0m price_range_label \u001b[39m=\u001b[39m HTML(value\u001b[39m=\u001b[39m\u001b[39m'\u001b[39m\u001b[39m<span style=\u001b[39m\u001b[39m\"\u001b[39m\u001b[39mfont-family: FontAwesome;\u001b[39m\u001b[39m\"\u001b[39m\u001b[39m><i class=\u001b[39m\u001b[39m\"\u001b[39m\u001b[39mfa-solid fa-dollar-sign\u001b[39m\u001b[39m\"\u001b[39m\u001b[39m></i></span> Price Range:\u001b[39m\u001b[39m'\u001b[39m)\n",
      "\u001b[1;31mTypeError\u001b[0m: HTML.__init__() got an unexpected keyword argument 'value'"
     ]
    }
   ],
   "source": [
    "from IPython.display import display, HTML\n",
    "\n",
    "stock_label = HTML(value='<span style=\"font-family: FontAwesome;\"><i class=\"fa-solid fa-calendar-days\"></i></span> Select Stock:')\n",
    "date_range_label = HTML(value='<span style=\"font-family: FontAwesome;\"><i class=\"fa-solid fa-calendar-days\"></i></span> Date Range:')\n",
    "price_range_label = HTML(value='<span style=\"font-family: FontAwesome;\"><i class=\"fa-solid fa-dollar-sign\"></i></span> Price Range:')\n",
    "volume_range_label = HTML(value='<span style=\"font-family: FontAwesome;\"><i class=\"fa-solid fa-arrow-trend-up\"></i></span> Volume Range:')\n",
    "chart_type_label = HTML(value='<span style=\"font-family: FontAwesome;\"><i class=\"fa-solid fa-chart-simple\"></i></span> Chart Type:')\n",
    "apply_filters_label = HTML(value='<span style=\"font-family: FontAwesome;\"><i class=\"fas fa-filter\"></i></span> Apply Filters:')\n",
    "\n",
    "display(stock_label)\n",
    "display(date_range_label)\n",
    "display(price_range_label)\n",
    "display(volume_range_label)\n",
    "display(chart_type_label)\n",
    "display(apply_filters_label)\n"
   ]
  }
 ],
 "metadata": {
  "kernelspec": {
   "display_name": "stock",
   "language": "python",
   "name": "python3"
  },
  "language_info": {
   "codemirror_mode": {
    "name": "ipython",
    "version": 3
   },
   "file_extension": ".py",
   "mimetype": "text/x-python",
   "name": "python",
   "nbconvert_exporter": "python",
   "pygments_lexer": "ipython3",
   "version": "3.10.11"
  }
 },
 "nbformat": 4,
 "nbformat_minor": 2
}
