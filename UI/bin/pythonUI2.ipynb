{
 "cells": [
  {
   "cell_type": "code",
   "execution_count": 1,
   "metadata": {},
   "outputs": [],
   "source": [
    "import pandas as pd\n",
    "import matplotlib.pyplot as plt\n",
    "import plotly.graph_objects as go\n",
    "import ipywidgets as widgets\n",
    "from IPython.display import display, clear_output"
   ]
  },
  {
   "cell_type": "code",
   "execution_count": 2,
   "metadata": {},
   "outputs": [],
   "source": [
    "%matplotlib inline"
   ]
  },
  {
   "cell_type": "code",
   "execution_count": 3,
   "metadata": {},
   "outputs": [],
   "source": [
    "file_path = 'data/AAPL_2010-01-01_2023-01-01.csv'\n",
    "stock_data = pd.read_csv(file_path)\n",
    "stock_data['Date'] = pd.to_datetime(stock_data['Date'])"
   ]
  },
  {
   "cell_type": "code",
   "execution_count": 4,
   "metadata": {},
   "outputs": [
    {
     "data": {
      "text/html": [
       "<div>\n",
       "<style scoped>\n",
       "    .dataframe tbody tr th:only-of-type {\n",
       "        vertical-align: middle;\n",
       "    }\n",
       "\n",
       "    .dataframe tbody tr th {\n",
       "        vertical-align: top;\n",
       "    }\n",
       "\n",
       "    .dataframe thead th {\n",
       "        text-align: right;\n",
       "    }\n",
       "</style>\n",
       "<table border=\"1\" class=\"dataframe\">\n",
       "  <thead>\n",
       "    <tr style=\"text-align: right;\">\n",
       "      <th></th>\n",
       "      <th>Date</th>\n",
       "      <th>Open</th>\n",
       "      <th>High</th>\n",
       "      <th>Low</th>\n",
       "      <th>Close</th>\n",
       "      <th>Adj Close</th>\n",
       "      <th>Volume</th>\n",
       "      <th>RSI</th>\n",
       "    </tr>\n",
       "  </thead>\n",
       "  <tbody>\n",
       "    <tr>\n",
       "      <th>0</th>\n",
       "      <td>2010-01-04</td>\n",
       "      <td>7.622500</td>\n",
       "      <td>7.660714</td>\n",
       "      <td>7.585000</td>\n",
       "      <td>7.643214</td>\n",
       "      <td>6.487535</td>\n",
       "      <td>493729600</td>\n",
       "      <td>NaN</td>\n",
       "    </tr>\n",
       "    <tr>\n",
       "      <th>1</th>\n",
       "      <td>2010-01-05</td>\n",
       "      <td>7.664286</td>\n",
       "      <td>7.699643</td>\n",
       "      <td>7.616071</td>\n",
       "      <td>7.656429</td>\n",
       "      <td>6.498750</td>\n",
       "      <td>601904800</td>\n",
       "      <td>100.000000</td>\n",
       "    </tr>\n",
       "    <tr>\n",
       "      <th>2</th>\n",
       "      <td>2010-01-06</td>\n",
       "      <td>7.656429</td>\n",
       "      <td>7.686786</td>\n",
       "      <td>7.526786</td>\n",
       "      <td>7.534643</td>\n",
       "      <td>6.395379</td>\n",
       "      <td>552160000</td>\n",
       "      <td>9.788567</td>\n",
       "    </tr>\n",
       "    <tr>\n",
       "      <th>3</th>\n",
       "      <td>2010-01-07</td>\n",
       "      <td>7.562500</td>\n",
       "      <td>7.571429</td>\n",
       "      <td>7.466071</td>\n",
       "      <td>7.520714</td>\n",
       "      <td>6.383556</td>\n",
       "      <td>477131200</td>\n",
       "      <td>8.873044</td>\n",
       "    </tr>\n",
       "    <tr>\n",
       "      <th>4</th>\n",
       "      <td>2010-01-08</td>\n",
       "      <td>7.510714</td>\n",
       "      <td>7.571429</td>\n",
       "      <td>7.466429</td>\n",
       "      <td>7.570714</td>\n",
       "      <td>6.425996</td>\n",
       "      <td>447610800</td>\n",
       "      <td>31.777433</td>\n",
       "    </tr>\n",
       "    <tr>\n",
       "      <th>...</th>\n",
       "      <td>...</td>\n",
       "      <td>...</td>\n",
       "      <td>...</td>\n",
       "      <td>...</td>\n",
       "      <td>...</td>\n",
       "      <td>...</td>\n",
       "      <td>...</td>\n",
       "      <td>...</td>\n",
       "    </tr>\n",
       "    <tr>\n",
       "      <th>3267</th>\n",
       "      <td>2022-12-23</td>\n",
       "      <td>130.919998</td>\n",
       "      <td>132.419998</td>\n",
       "      <td>129.639999</td>\n",
       "      <td>131.860001</td>\n",
       "      <td>131.299820</td>\n",
       "      <td>63814900</td>\n",
       "      <td>26.261623</td>\n",
       "    </tr>\n",
       "    <tr>\n",
       "      <th>3268</th>\n",
       "      <td>2022-12-27</td>\n",
       "      <td>131.380005</td>\n",
       "      <td>131.410004</td>\n",
       "      <td>128.720001</td>\n",
       "      <td>130.029999</td>\n",
       "      <td>129.477585</td>\n",
       "      <td>69007800</td>\n",
       "      <td>27.960271</td>\n",
       "    </tr>\n",
       "    <tr>\n",
       "      <th>3269</th>\n",
       "      <td>2022-12-28</td>\n",
       "      <td>129.669998</td>\n",
       "      <td>131.029999</td>\n",
       "      <td>125.870003</td>\n",
       "      <td>126.040001</td>\n",
       "      <td>125.504539</td>\n",
       "      <td>85438400</td>\n",
       "      <td>26.152341</td>\n",
       "    </tr>\n",
       "    <tr>\n",
       "      <th>3270</th>\n",
       "      <td>2022-12-29</td>\n",
       "      <td>127.989998</td>\n",
       "      <td>130.479996</td>\n",
       "      <td>127.730003</td>\n",
       "      <td>129.610001</td>\n",
       "      <td>129.059372</td>\n",
       "      <td>75703700</td>\n",
       "      <td>30.302110</td>\n",
       "    </tr>\n",
       "    <tr>\n",
       "      <th>3271</th>\n",
       "      <td>2022-12-30</td>\n",
       "      <td>128.410004</td>\n",
       "      <td>129.949997</td>\n",
       "      <td>127.430000</td>\n",
       "      <td>129.929993</td>\n",
       "      <td>129.378006</td>\n",
       "      <td>77034200</td>\n",
       "      <td>31.430277</td>\n",
       "    </tr>\n",
       "  </tbody>\n",
       "</table>\n",
       "<p>3272 rows × 8 columns</p>\n",
       "</div>"
      ],
      "text/plain": [
       "           Date        Open        High         Low       Close   Adj Close  \\\n",
       "0    2010-01-04    7.622500    7.660714    7.585000    7.643214    6.487535   \n",
       "1    2010-01-05    7.664286    7.699643    7.616071    7.656429    6.498750   \n",
       "2    2010-01-06    7.656429    7.686786    7.526786    7.534643    6.395379   \n",
       "3    2010-01-07    7.562500    7.571429    7.466071    7.520714    6.383556   \n",
       "4    2010-01-08    7.510714    7.571429    7.466429    7.570714    6.425996   \n",
       "...         ...         ...         ...         ...         ...         ...   \n",
       "3267 2022-12-23  130.919998  132.419998  129.639999  131.860001  131.299820   \n",
       "3268 2022-12-27  131.380005  131.410004  128.720001  130.029999  129.477585   \n",
       "3269 2022-12-28  129.669998  131.029999  125.870003  126.040001  125.504539   \n",
       "3270 2022-12-29  127.989998  130.479996  127.730003  129.610001  129.059372   \n",
       "3271 2022-12-30  128.410004  129.949997  127.430000  129.929993  129.378006   \n",
       "\n",
       "         Volume         RSI  \n",
       "0     493729600         NaN  \n",
       "1     601904800  100.000000  \n",
       "2     552160000    9.788567  \n",
       "3     477131200    8.873044  \n",
       "4     447610800   31.777433  \n",
       "...         ...         ...  \n",
       "3267   63814900   26.261623  \n",
       "3268   69007800   27.960271  \n",
       "3269   85438400   26.152341  \n",
       "3270   75703700   30.302110  \n",
       "3271   77034200   31.430277  \n",
       "\n",
       "[3272 rows x 8 columns]"
      ]
     },
     "execution_count": 4,
     "metadata": {},
     "output_type": "execute_result"
    }
   ],
   "source": [
    "stock_data"
   ]
  },
  {
   "cell_type": "code",
   "execution_count": 5,
   "metadata": {},
   "outputs": [
    {
     "data": {
      "application/vnd.jupyter.widget-view+json": {
       "model_id": "283fa30bb24f4495adb1be5cdcc61c2b",
       "version_major": 2,
       "version_minor": 0
      },
      "text/plain": [
       "DatePicker(value=Timestamp('2010-01-04 00:00:00'), description='Start Date', step=1)"
      ]
     },
     "metadata": {},
     "output_type": "display_data"
    },
    {
     "data": {
      "application/vnd.jupyter.widget-view+json": {
       "model_id": "ebd10215373044f3ae11e507957f8d1c",
       "version_major": 2,
       "version_minor": 0
      },
      "text/plain": [
       "DatePicker(value=Timestamp('2022-12-30 00:00:00'), description='End Date', step=1)"
      ]
     },
     "metadata": {},
     "output_type": "display_data"
    },
    {
     "data": {
      "application/vnd.jupyter.widget-view+json": {
       "model_id": "107e11368da648e3bd36036c10643582",
       "version_major": 2,
       "version_minor": 0
      },
      "text/plain": [
       "FloatRangeSlider(value=(6.85892915725708, 182.00999450683597), continuous_update=False, description='Price Ran…"
      ]
     },
     "metadata": {},
     "output_type": "display_data"
    },
    {
     "data": {
      "application/vnd.jupyter.widget-view+json": {
       "model_id": "c3c576fae3cd4316afa5dd467e363890",
       "version_major": 2,
       "version_minor": 0
      },
      "text/plain": [
       "FloatRangeSlider(value=(35195900.0, 1880998000.0), continuous_update=False, description='Volume Range:', max=1…"
      ]
     },
     "metadata": {},
     "output_type": "display_data"
    },
    {
     "data": {
      "application/vnd.jupyter.widget-view+json": {
       "model_id": "bc41d7a16c09488da180550ce6bfb5be",
       "version_major": 2,
       "version_minor": 0
      },
      "text/plain": [
       "Dropdown(description='Chart Type:', options=('Line Chart', 'Candlestick Chart'), value='Line Chart')"
      ]
     },
     "metadata": {},
     "output_type": "display_data"
    },
    {
     "data": {
      "application/vnd.jupyter.widget-view+json": {
       "model_id": "fca27afb495e42feb3a512efc3076aba",
       "version_major": 2,
       "version_minor": 0
      },
      "text/plain": [
       "Button(description='Apply Filters', style=ButtonStyle())"
      ]
     },
     "metadata": {},
     "output_type": "display_data"
    },
    {
     "data": {
      "application/vnd.jupyter.widget-view+json": {
       "model_id": "0369ff21b613416b9a2173b5608b6bf9",
       "version_major": 2,
       "version_minor": 0
      },
      "text/plain": [
       "Output()"
      ]
     },
     "metadata": {},
     "output_type": "display_data"
    }
   ],
   "source": [
    "# UI Components\n",
    "start_date_picker = widgets.DatePicker(\n",
    "    description='Start Date',\n",
    "    value=stock_data['Date'].min(),\n",
    "    disabled=False\n",
    ")\n",
    "\n",
    "end_date_picker = widgets.DatePicker(\n",
    "    description='End Date',\n",
    "    value=stock_data['Date'].max(),\n",
    "    disabled=False\n",
    ")\n",
    "\n",
    "price_range_slider = widgets.FloatRangeSlider(\n",
    "    value=[stock_data['Close'].min(), stock_data['Close'].max()],\n",
    "    min=stock_data['Close'].min(),\n",
    "    max=stock_data['Close'].max(),\n",
    "    step=0.1,\n",
    "    description='Price Range:',\n",
    "    continuous_update=False\n",
    ")\n",
    "\n",
    "volume_range_slider = widgets.FloatRangeSlider(\n",
    "    value=[stock_data['Volume'].min(), stock_data['Volume'].max()],\n",
    "    min=stock_data['Volume'].min(),\n",
    "    max=stock_data['Volume'].max(),\n",
    "    step=10000,\n",
    "    description='Volume Range:',\n",
    "    continuous_update=False\n",
    ")\n",
    "\n",
    "chart_type_dropdown = widgets.Dropdown(\n",
    "    options=['Line Chart', 'Candlestick Chart'],\n",
    "    value='Line Chart',\n",
    "    description='Chart Type:',\n",
    "    disabled=False,\n",
    ")\n",
    "\n",
    "filter_button = widgets.Button(description='Apply Filters')\n",
    "output = widgets.Output()\n",
    "\n",
    "# Function to Update Output\n",
    "def filter_data(b):\n",
    "    with output:\n",
    "        clear_output()\n",
    "        filtered_data = stock_data[\n",
    "            (stock_data['Date'] >= pd.to_datetime(start_date_picker.value)) & \n",
    "            (stock_data['Date'] <= pd.to_datetime(end_date_picker.value)) &\n",
    "            (stock_data['Close'] >= price_range_slider.value[0]) & \n",
    "            (stock_data['Close'] <= price_range_slider.value[1]) &\n",
    "            (stock_data['Volume'] >= volume_range_slider.value[0]) & \n",
    "            (stock_data['Volume'] <= volume_range_slider.value[1])\n",
    "        ]\n",
    "\n",
    "        if filtered_data.empty:\n",
    "            print(\"No data to display for the selected filters.\")\n",
    "            return\n",
    "\n",
    "        if chart_type_dropdown.value == 'Line Chart':\n",
    "            # Plot the stock price as a line chart\n",
    "            plt.figure(figsize=(10, 4))\n",
    "            plt.plot(filtered_data['Date'], filtered_data['Close'], label='Close Price')\n",
    "            plt.xlabel('Date')\n",
    "            plt.ylabel('Price')\n",
    "            plt.title('AAPL Stock Price')\n",
    "            plt.legend()\n",
    "            plt.show()\n",
    "        elif chart_type_dropdown.value == 'Candlestick Chart':\n",
    "            # Create a candlestick chart\n",
    "            fig = go.Figure(data=[go.Candlestick(\n",
    "                x=filtered_data['Date'],\n",
    "                open=filtered_data['Open'],\n",
    "                high=filtered_data['High'],\n",
    "                low=filtered_data['Low'],\n",
    "                close=filtered_data['Close']\n",
    "            )])\n",
    "\n",
    "            fig.update_layout(\n",
    "                title='AAPL Candlestick Chart',\n",
    "                xaxis_title='Date',\n",
    "                yaxis_title='Price',\n",
    "            )\n",
    "\n",
    "            # Display the candlestick chart\n",
    "            fig.show()\n",
    "\n",
    "        # Display statistics\n",
    "        display(filtered_data.describe())\n",
    "\n",
    "# Link the filter button to the filter_data function\n",
    "filter_button.on_click(filter_data)\n",
    "\n",
    "# Display UI components\n",
    "display(start_date_picker, end_date_picker, price_range_slider, volume_range_slider, chart_type_dropdown, filter_button, output)\n"
   ]
  }
 ],
 "metadata": {
  "kernelspec": {
   "display_name": "stock",
   "language": "python",
   "name": "python3"
  },
  "language_info": {
   "codemirror_mode": {
    "name": "ipython",
    "version": 3
   },
   "file_extension": ".py",
   "mimetype": "text/x-python",
   "name": "python",
   "nbconvert_exporter": "python",
   "pygments_lexer": "ipython3",
   "version": "3.10.11"
  }
 },
 "nbformat": 4,
 "nbformat_minor": 2
}
