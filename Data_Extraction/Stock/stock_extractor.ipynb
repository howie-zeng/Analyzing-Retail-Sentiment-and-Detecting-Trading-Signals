{
 "cells": [
  {
   "cell_type": "code",
   "execution_count": 6,
   "metadata": {},
   "outputs": [],
   "source": [
    "import yfinance as yf\n",
    "import pandas as pd\n",
    "import matplotlib.pyplot as plt\n",
    "import matplotlib.dates as mdates\n",
    "import os\n",
    "import helper\n",
    "\n",
    "current_path = os.getcwd()\n",
    "data_directory = os.path.join(current_path, \"data\")"
   ]
  },
  {
   "cell_type": "code",
   "execution_count": 9,
   "metadata": {},
   "outputs": [
    {
     "name": "stdout",
     "output_type": "stream",
     "text": [
      "[*********************100%%**********************]  1 of 1 completed\n",
      "Error fetching data for RIVN: [Errno 13] Permission denied: 'd:\\\\Cornell\\\\course\\\\CS6386\\\\Analyzing-the-Correlation-Between-Retail-Traders--Sentiments-and-Equity-Market-Movements\\\\Data_Extraction\\\\Stock\\\\data\\\\RIVN_2010-01-01_2023-01-01.csv'\n",
      "[*********************100%%**********************]  1 of 1 completed\n",
      "Error fetching data for BB: [Errno 13] Permission denied: 'd:\\\\Cornell\\\\course\\\\CS6386\\\\Analyzing-the-Correlation-Between-Retail-Traders--Sentiments-and-Equity-Market-Movements\\\\Data_Extraction\\\\Stock\\\\data\\\\BB_2010-01-01_2023-01-01.csv'\n",
      "[*********************100%%**********************]  1 of 1 completed\n",
      "Error fetching data for SOFI: [Errno 13] Permission denied: 'd:\\\\Cornell\\\\course\\\\CS6386\\\\Analyzing-the-Correlation-Between-Retail-Traders--Sentiments-and-Equity-Market-Movements\\\\Data_Extraction\\\\Stock\\\\data\\\\SOFI_2010-01-01_2023-01-01.csv'\n",
      "[*********************100%%**********************]  1 of 1 completed\n",
      "Error fetching data for GME: [Errno 13] Permission denied: 'd:\\\\Cornell\\\\course\\\\CS6386\\\\Analyzing-the-Correlation-Between-Retail-Traders--Sentiments-and-Equity-Market-Movements\\\\Data_Extraction\\\\Stock\\\\data\\\\GME_2010-01-01_2023-01-01.csv'\n",
      "[*********************100%%**********************]  1 of 1 completed\n",
      "Error fetching data for AMC: [Errno 13] Permission denied: 'd:\\\\Cornell\\\\course\\\\CS6386\\\\Analyzing-the-Correlation-Between-Retail-Traders--Sentiments-and-Equity-Market-Movements\\\\Data_Extraction\\\\Stock\\\\data\\\\AMC_2010-01-01_2023-01-01.csv'\n",
      "[*********************100%%**********************]  1 of 1 completed\n",
      "Error fetching data for PLTR: [Errno 13] Permission denied: 'd:\\\\Cornell\\\\course\\\\CS6386\\\\Analyzing-the-Correlation-Between-Retail-Traders--Sentiments-and-Equity-Market-Movements\\\\Data_Extraction\\\\Stock\\\\data\\\\PLTR_2010-01-01_2023-01-01.csv'\n",
      "[*********************100%%**********************]  1 of 1 completed\n",
      "Error fetching data for TSLA: [Errno 13] Permission denied: 'd:\\\\Cornell\\\\course\\\\CS6386\\\\Analyzing-the-Correlation-Between-Retail-Traders--Sentiments-and-Equity-Market-Movements\\\\Data_Extraction\\\\Stock\\\\data\\\\TSLA_2010-01-01_2023-01-01.csv'\n",
      "[*********************100%%**********************]  1 of 1 completed\n",
      "Error fetching data for AAPL: [Errno 13] Permission denied: 'd:\\\\Cornell\\\\course\\\\CS6386\\\\Analyzing-the-Correlation-Between-Retail-Traders--Sentiments-and-Equity-Market-Movements\\\\Data_Extraction\\\\Stock\\\\data\\\\AAPL_2010-01-01_2023-01-01.csv'\n",
      "[*********************100%%**********************]  1 of 1 completed\n",
      "Error fetching data for QQQ: [Errno 13] Permission denied: 'd:\\\\Cornell\\\\course\\\\CS6386\\\\Analyzing-the-Correlation-Between-Retail-Traders--Sentiments-and-Equity-Market-Movements\\\\Data_Extraction\\\\Stock\\\\data\\\\QQQ_2010-01-01_2023-01-01.csv'\n",
      "[*********************100%%**********************]  1 of 1 completed\n",
      "Error fetching data for SPY: [Errno 13] Permission denied: 'd:\\\\Cornell\\\\course\\\\CS6386\\\\Analyzing-the-Correlation-Between-Retail-Traders--Sentiments-and-Equity-Market-Movements\\\\Data_Extraction\\\\Stock\\\\data\\\\SPY_2010-01-01_2023-01-01.csv'\n",
      "[*********************100%%**********************]  1 of 1 completed\n",
      "Error fetching data for MSFT: [Errno 13] Permission denied: 'd:\\\\Cornell\\\\course\\\\CS6386\\\\Analyzing-the-Correlation-Between-Retail-Traders--Sentiments-and-Equity-Market-Movements\\\\Data_Extraction\\\\Stock\\\\data\\\\MSFT_2010-01-01_2023-01-01.csv'\n",
      "[*********************100%%**********************]  1 of 1 completed\n",
      "Error fetching data for AMZN: [Errno 13] Permission denied: 'd:\\\\Cornell\\\\course\\\\CS6386\\\\Analyzing-the-Correlation-Between-Retail-Traders--Sentiments-and-Equity-Market-Movements\\\\Data_Extraction\\\\Stock\\\\data\\\\AMZN_2010-01-01_2023-01-01.csv'\n",
      "[*********************100%%**********************]  1 of 1 completed\n",
      "Error fetching data for GOOG: [Errno 13] Permission denied: 'd:\\\\Cornell\\\\course\\\\CS6386\\\\Analyzing-the-Correlation-Between-Retail-Traders--Sentiments-and-Equity-Market-Movements\\\\Data_Extraction\\\\Stock\\\\data\\\\GOOG_2010-01-01_2023-01-01.csv'\n"
     ]
    }
   ],
   "source": [
    "STOCKS = [\"RIVN\", \"BB\", \"SOFI\", \"GME\", \"AMC\", \"PLTR\", \"TSLA\", \"AAPL\", 'QQQ', \"SPY\", \"MSFT\", \"AMZN\", \"GOOG\"]\n",
    "start_date = \"2010-01-01\"\n",
    "end_date = \"2023-01-01\"\n",
    "\n",
    "stock_data = {}\n",
    "for stock in STOCKS:\n",
    "    try:\n",
    "        data_path = os.path.join(data_directory, f\"{stock}_{start_date}_{end_date}.csv\")\n",
    "        if not os.path.exists(data_path):\n",
    "            os.makedirs(data_path, exist_ok=True)\n",
    "            data = yf.download(stock, start=start_date, end=end_date)\n",
    "            data = data.reset_index()\n",
    "            data['RSI'] = helper.compute_rsi(data['Close'])\n",
    "            data['Date'] = pd.to_datetime(data['Date'])\n",
    "            data.to_csv(data_path, index=False)\n",
    "        else:\n",
    "            data = pd.read_csv(data_path)\n",
    "            data['Date'] = pd.to_datetime(data['Date'])\n",
    "        stock_data[stock] = data\n",
    "        \n",
    "        print(f\"Data fetched and saved for {stock}\")\n",
    "    except Exception as e:\n",
    "        print(f\"Error fetching data for {stock}: {str(e)}\")"
   ]
  },
  {
   "cell_type": "code",
   "execution_count": 6,
   "metadata": {},
   "outputs": [
    {
     "ename": "ValueError",
     "evalue": "Number of rows must be a positive integer, not 0",
     "output_type": "error",
     "traceback": [
      "\u001b[1;31m---------------------------------------------------------------------------\u001b[0m",
      "\u001b[1;31mValueError\u001b[0m                                Traceback (most recent call last)",
      "\u001b[1;32md:\\Cornell\\course\\CS6386\\Analyzing-the-Correlation-Between-Retail-Traders--Sentiments-and-Equity-Market-Movements\\Data Extraction\\Stock\\stock_extractor.ipynb Cell 3\u001b[0m line \u001b[0;36m1\n\u001b[1;32m----> <a href='vscode-notebook-cell:/d%3A/Cornell/course/CS6386/Analyzing-the-Correlation-Between-Retail-Traders--Sentiments-and-Equity-Market-Movements/Data%20Extraction/Stock/stock_extractor.ipynb#W2sZmlsZQ%3D%3D?line=0'>1</a>\u001b[0m fig, axes \u001b[39m=\u001b[39m plt\u001b[39m.\u001b[39;49msubplots(\u001b[39mlen\u001b[39;49m(stock_data), \u001b[39m2\u001b[39;49m, figsize\u001b[39m=\u001b[39;49m(\u001b[39m14\u001b[39;49m, \u001b[39m20\u001b[39;49m))\n\u001b[0;32m      <a href='vscode-notebook-cell:/d%3A/Cornell/course/CS6386/Analyzing-the-Correlation-Between-Retail-Traders--Sentiments-and-Equity-Market-Movements/Data%20Extraction/Stock/stock_extractor.ipynb#W2sZmlsZQ%3D%3D?line=2'>3</a>\u001b[0m fig\u001b[39m.\u001b[39msuptitle(\u001b[39m'\u001b[39m\u001b[39mStock Volume and Amount Across Time\u001b[39m\u001b[39m'\u001b[39m, fontsize\u001b[39m=\u001b[39m\u001b[39m16\u001b[39m, y\u001b[39m=\u001b[39m\u001b[39m1.02\u001b[39m)\n\u001b[0;32m      <a href='vscode-notebook-cell:/d%3A/Cornell/course/CS6386/Analyzing-the-Correlation-Between-Retail-Traders--Sentiments-and-Equity-Market-Movements/Data%20Extraction/Stock/stock_extractor.ipynb#W2sZmlsZQ%3D%3D?line=4'>5</a>\u001b[0m \u001b[39mfor\u001b[39;00m i, stock \u001b[39min\u001b[39;00m \u001b[39menumerate\u001b[39m(stock_data\u001b[39m.\u001b[39mkeys()):\n",
      "File \u001b[1;32m~\\AppData\\Local\\Packages\\PythonSoftwareFoundation.Python.3.10_qbz5n2kfra8p0\\LocalCache\\local-packages\\Python310\\site-packages\\matplotlib\\pyplot.py:1502\u001b[0m, in \u001b[0;36msubplots\u001b[1;34m(nrows, ncols, sharex, sharey, squeeze, width_ratios, height_ratios, subplot_kw, gridspec_kw, **fig_kw)\u001b[0m\n\u001b[0;32m   1358\u001b[0m \u001b[39m\"\"\"\u001b[39;00m\n\u001b[0;32m   1359\u001b[0m \u001b[39mCreate a figure and a set of subplots.\u001b[39;00m\n\u001b[0;32m   1360\u001b[0m \n\u001b[1;32m   (...)\u001b[0m\n\u001b[0;32m   1499\u001b[0m \n\u001b[0;32m   1500\u001b[0m \u001b[39m\"\"\"\u001b[39;00m\n\u001b[0;32m   1501\u001b[0m fig \u001b[39m=\u001b[39m figure(\u001b[39m*\u001b[39m\u001b[39m*\u001b[39mfig_kw)\n\u001b[1;32m-> 1502\u001b[0m axs \u001b[39m=\u001b[39m fig\u001b[39m.\u001b[39;49msubplots(nrows\u001b[39m=\u001b[39;49mnrows, ncols\u001b[39m=\u001b[39;49mncols, sharex\u001b[39m=\u001b[39;49msharex, sharey\u001b[39m=\u001b[39;49msharey,\n\u001b[0;32m   1503\u001b[0m                    squeeze\u001b[39m=\u001b[39;49msqueeze, subplot_kw\u001b[39m=\u001b[39;49msubplot_kw,\n\u001b[0;32m   1504\u001b[0m                    gridspec_kw\u001b[39m=\u001b[39;49mgridspec_kw, height_ratios\u001b[39m=\u001b[39;49mheight_ratios,\n\u001b[0;32m   1505\u001b[0m                    width_ratios\u001b[39m=\u001b[39;49mwidth_ratios)\n\u001b[0;32m   1506\u001b[0m \u001b[39mreturn\u001b[39;00m fig, axs\n",
      "File \u001b[1;32m~\\AppData\\Local\\Packages\\PythonSoftwareFoundation.Python.3.10_qbz5n2kfra8p0\\LocalCache\\local-packages\\Python310\\site-packages\\matplotlib\\figure.py:905\u001b[0m, in \u001b[0;36mFigureBase.subplots\u001b[1;34m(self, nrows, ncols, sharex, sharey, squeeze, width_ratios, height_ratios, subplot_kw, gridspec_kw)\u001b[0m\n\u001b[0;32m    901\u001b[0m         \u001b[39mraise\u001b[39;00m \u001b[39mValueError\u001b[39;00m(\u001b[39m\"\u001b[39m\u001b[39m'\u001b[39m\u001b[39mwidth_ratios\u001b[39m\u001b[39m'\u001b[39m\u001b[39m must not be defined both as \u001b[39m\u001b[39m\"\u001b[39m\n\u001b[0;32m    902\u001b[0m                          \u001b[39m\"\u001b[39m\u001b[39mparameter and as key in \u001b[39m\u001b[39m'\u001b[39m\u001b[39mgridspec_kw\u001b[39m\u001b[39m'\u001b[39m\u001b[39m\"\u001b[39m)\n\u001b[0;32m    903\u001b[0m     gridspec_kw[\u001b[39m'\u001b[39m\u001b[39mwidth_ratios\u001b[39m\u001b[39m'\u001b[39m] \u001b[39m=\u001b[39m width_ratios\n\u001b[1;32m--> 905\u001b[0m gs \u001b[39m=\u001b[39m \u001b[39mself\u001b[39m\u001b[39m.\u001b[39madd_gridspec(nrows, ncols, figure\u001b[39m=\u001b[39m\u001b[39mself\u001b[39m, \u001b[39m*\u001b[39m\u001b[39m*\u001b[39mgridspec_kw)\n\u001b[0;32m    906\u001b[0m axs \u001b[39m=\u001b[39m gs\u001b[39m.\u001b[39msubplots(sharex\u001b[39m=\u001b[39msharex, sharey\u001b[39m=\u001b[39msharey, squeeze\u001b[39m=\u001b[39msqueeze,\n\u001b[0;32m    907\u001b[0m                   subplot_kw\u001b[39m=\u001b[39msubplot_kw)\n\u001b[0;32m    908\u001b[0m \u001b[39mreturn\u001b[39;00m axs\n",
      "File \u001b[1;32m~\\AppData\\Local\\Packages\\PythonSoftwareFoundation.Python.3.10_qbz5n2kfra8p0\\LocalCache\\local-packages\\Python310\\site-packages\\matplotlib\\figure.py:1527\u001b[0m, in \u001b[0;36mFigureBase.add_gridspec\u001b[1;34m(self, nrows, ncols, **kwargs)\u001b[0m\n\u001b[0;32m   1488\u001b[0m \u001b[39m\"\"\"\u001b[39;00m\n\u001b[0;32m   1489\u001b[0m \u001b[39mReturn a `.GridSpec` that has this figure as a parent.  This allows\u001b[39;00m\n\u001b[0;32m   1490\u001b[0m \u001b[39mcomplex layout of Axes in the figure.\u001b[39;00m\n\u001b[1;32m   (...)\u001b[0m\n\u001b[0;32m   1523\u001b[0m \n\u001b[0;32m   1524\u001b[0m \u001b[39m\"\"\"\u001b[39;00m\n\u001b[0;32m   1526\u001b[0m _ \u001b[39m=\u001b[39m kwargs\u001b[39m.\u001b[39mpop(\u001b[39m'\u001b[39m\u001b[39mfigure\u001b[39m\u001b[39m'\u001b[39m, \u001b[39mNone\u001b[39;00m)  \u001b[39m# pop in case user has added this...\u001b[39;00m\n\u001b[1;32m-> 1527\u001b[0m gs \u001b[39m=\u001b[39m GridSpec(nrows\u001b[39m=\u001b[39mnrows, ncols\u001b[39m=\u001b[39mncols, figure\u001b[39m=\u001b[39m\u001b[39mself\u001b[39m, \u001b[39m*\u001b[39m\u001b[39m*\u001b[39mkwargs)\n\u001b[0;32m   1528\u001b[0m \u001b[39mreturn\u001b[39;00m gs\n",
      "File \u001b[1;32m~\\AppData\\Local\\Packages\\PythonSoftwareFoundation.Python.3.10_qbz5n2kfra8p0\\LocalCache\\local-packages\\Python310\\site-packages\\matplotlib\\gridspec.py:379\u001b[0m, in \u001b[0;36mGridSpec.__init__\u001b[1;34m(self, nrows, ncols, figure, left, bottom, right, top, wspace, hspace, width_ratios, height_ratios)\u001b[0m\n\u001b[0;32m    376\u001b[0m \u001b[39mself\u001b[39m\u001b[39m.\u001b[39mhspace \u001b[39m=\u001b[39m hspace\n\u001b[0;32m    377\u001b[0m \u001b[39mself\u001b[39m\u001b[39m.\u001b[39mfigure \u001b[39m=\u001b[39m figure\n\u001b[1;32m--> 379\u001b[0m \u001b[39msuper\u001b[39;49m()\u001b[39m.\u001b[39;49m\u001b[39m__init__\u001b[39;49m(nrows, ncols,\n\u001b[0;32m    380\u001b[0m                  width_ratios\u001b[39m=\u001b[39;49mwidth_ratios,\n\u001b[0;32m    381\u001b[0m                  height_ratios\u001b[39m=\u001b[39;49mheight_ratios)\n",
      "File \u001b[1;32m~\\AppData\\Local\\Packages\\PythonSoftwareFoundation.Python.3.10_qbz5n2kfra8p0\\LocalCache\\local-packages\\Python310\\site-packages\\matplotlib\\gridspec.py:49\u001b[0m, in \u001b[0;36mGridSpecBase.__init__\u001b[1;34m(self, nrows, ncols, height_ratios, width_ratios)\u001b[0m\n\u001b[0;32m     34\u001b[0m \u001b[39m\"\"\"\u001b[39;00m\n\u001b[0;32m     35\u001b[0m \u001b[39mParameters\u001b[39;00m\n\u001b[0;32m     36\u001b[0m \u001b[39m----------\u001b[39;00m\n\u001b[1;32m   (...)\u001b[0m\n\u001b[0;32m     46\u001b[0m \u001b[39m    If not given, all rows will have the same height.\u001b[39;00m\n\u001b[0;32m     47\u001b[0m \u001b[39m\"\"\"\u001b[39;00m\n\u001b[0;32m     48\u001b[0m \u001b[39mif\u001b[39;00m \u001b[39mnot\u001b[39;00m \u001b[39misinstance\u001b[39m(nrows, Integral) \u001b[39mor\u001b[39;00m nrows \u001b[39m<\u001b[39m\u001b[39m=\u001b[39m \u001b[39m0\u001b[39m:\n\u001b[1;32m---> 49\u001b[0m     \u001b[39mraise\u001b[39;00m \u001b[39mValueError\u001b[39;00m(\n\u001b[0;32m     50\u001b[0m         \u001b[39mf\u001b[39m\u001b[39m\"\u001b[39m\u001b[39mNumber of rows must be a positive integer, not \u001b[39m\u001b[39m{\u001b[39;00mnrows\u001b[39m!r}\u001b[39;00m\u001b[39m\"\u001b[39m)\n\u001b[0;32m     51\u001b[0m \u001b[39mif\u001b[39;00m \u001b[39mnot\u001b[39;00m \u001b[39misinstance\u001b[39m(ncols, Integral) \u001b[39mor\u001b[39;00m ncols \u001b[39m<\u001b[39m\u001b[39m=\u001b[39m \u001b[39m0\u001b[39m:\n\u001b[0;32m     52\u001b[0m     \u001b[39mraise\u001b[39;00m \u001b[39mValueError\u001b[39;00m(\n\u001b[0;32m     53\u001b[0m         \u001b[39mf\u001b[39m\u001b[39m\"\u001b[39m\u001b[39mNumber of columns must be a positive integer, not \u001b[39m\u001b[39m{\u001b[39;00mncols\u001b[39m!r}\u001b[39;00m\u001b[39m\"\u001b[39m)\n",
      "\u001b[1;31mValueError\u001b[0m: Number of rows must be a positive integer, not 0"
     ]
    },
    {
     "data": {
      "text/plain": [
       "<Figure size 1400x2000 with 0 Axes>"
      ]
     },
     "metadata": {},
     "output_type": "display_data"
    }
   ],
   "source": [
    "fig, axes = plt.subplots(len(stock_data), 2, figsize=(14, 20))\n",
    "\n",
    "fig.suptitle('Stock Volume and Amount Across Time', fontsize=16, y=1.02)\n",
    "\n",
    "for i, stock in enumerate(stock_data.keys()):\n",
    "    try:\n",
    "        data = stock_data[stock]\n",
    "        data['Amount'] = (data['Open'] + data['High'] + data['Low'] + data['Close']) / 4 * data['Volume']\n",
    "        axes[i, 0].plot(data.index, data['Volume'], label='Volume', color='blue')\n",
    "        axes[i, 0].set_title(f'{stock} Volume', fontsize=12)\n",
    "        axes[i, 0].set_xlabel('Date')\n",
    "        axes[i, 0].set_ylabel('Volume')\n",
    "        axes[i, 0].grid(True)\n",
    "        axes[i, 1].plot(data.index, data['Amount'], label='Amount', color='green')\n",
    "        axes[i, 1].set_title(f'{stock} Amount', fontsize=12)\n",
    "        axes[i, 1].set_xlabel('Date')\n",
    "        axes[i, 1].set_ylabel('Amount')\n",
    "        axes[i, 1].grid(True)\n",
    "        \n",
    "    except Exception as e:\n",
    "        print(f\"Error plotting data for {stock}: {str(e)}\")\n",
    "\n",
    "plt.tight_layout()\n",
    "plt.show()\n"
   ]
  },
  {
   "cell_type": "code",
   "execution_count": 4,
   "metadata": {},
   "outputs": [],
   "source": [
    "fig, axes = plt.subplots(len(stock_data), figsize=(15, 10*len(stock_data)))\n",
    "\n",
    "fig.suptitle('Stock Volume and Close Price Across Time', fontsize=20, y=0.92)\n",
    "\n",
    "for i, stock in enumerate(stock_data.keys()):\n",
    "    try:\n",
    "        # Access the stock's data from the dictionary\n",
    "        data = stock_data[stock]\n",
    "        \n",
    "        # Plot 'Volume' on the primary y-axis\n",
    "        axes[i].bar(data.index, data['Volume'], label=f'{stock} Volume', color='blue', alpha=0.6)\n",
    "        axes[i].set_xlabel('Date', fontsize=14)\n",
    "        axes[i].set_ylabel('Volume', color='blue', fontsize=14)\n",
    "        axes[i].grid(True, axis='y', linestyle='--', linewidth=0.7, alpha=0.7)\n",
    "        axes[i].tick_params(axis='y', labelcolor='blue')\n",
    "        axes[i].xaxis.set_major_locator(mdates.MonthLocator())  # Set locator to month\n",
    "        axes[i].xaxis.set_major_formatter(mdates.DateFormatter('%b %Y'))  # Format date to month and year\n",
    "        axes[i].tick_params(axis='x', rotation=45)  # Rotate date labels for better readability\n",
    "        \n",
    "        # Create a secondary y-axis for 'Close Price'\n",
    "        ax2 = axes[i].twinx()\n",
    "        ax2.plot(data.index, data['Close'], label=f'{stock} Close Price', color='red', linewidth=2)\n",
    "        ax2.set_ylabel('Close Price', color='red', fontsize=14)\n",
    "        ax2.tick_params(axis='y', labelcolor='red')\n",
    "        \n",
    "        # Show legends for 'Volume' and 'Close Price'\n",
    "        lines1, labels1 = axes[i].get_legend_handles_labels()\n",
    "        lines2, labels2 = ax2.get_legend_handles_labels()\n",
    "        axes[i].legend(lines1 + lines2, labels1 + labels2, loc='upper left', fontsize=12)\n",
    "        \n",
    "        axes[i].set_title(f'{stock}', fontsize=16, fontweight='bold', pad=10)\n",
    "        \n",
    "    except Exception as e:\n",
    "        print(f\"Error plotting data for {stock}: {str(e)}\")\n",
    "\n",
    "plt.tight_layout()\n",
    "plt.subplots_adjust(top=0.88)  # Adjust the top spacing to accommodate the suptitle\n",
    "plt.show()\n"
   ]
  }
 ],
 "metadata": {
  "kernelspec": {
   "display_name": "Python 3",
   "language": "python",
   "name": "python3"
  },
  "language_info": {
   "codemirror_mode": {
    "name": "ipython",
    "version": 3
   },
   "file_extension": ".py",
   "mimetype": "text/x-python",
   "name": "python",
   "nbconvert_exporter": "python",
   "pygments_lexer": "ipython3",
   "version": "3.9.18"
  },
  "orig_nbformat": 4
 },
 "nbformat": 4,
 "nbformat_minor": 2
}
