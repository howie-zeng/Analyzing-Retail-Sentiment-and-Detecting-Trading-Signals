{
 "cells": [
  {
   "cell_type": "code",
   "execution_count": 2,
   "metadata": {},
   "outputs": [],
   "source": [
    "import data_extractor\n",
    "\n",
    "%matplotlib inline"
   ]
  },
  {
   "cell_type": "code",
   "execution_count": null,
   "metadata": {},
   "outputs": [],
   "source": [
    "\n",
    "\n",
    "reddit_credentials = {\n",
    "    'client_id': 'YOUR_REDDIT_CLIENT_ID',\n",
    "    'client_secret': 'YOUR_REDDIT_CLIENT_SECRET',\n",
    "    'user_agent': 'YOUR_USER_AGENT'\n",
    "}\n",
    "\n",
    "twitter_credentials = {\n",
    "    'api_key': 'YOUR_TWITTER_API_KEY',\n",
    "    'api_secret_key': 'YOUR_TWITTER_API_SECRET_KEY',\n",
    "    'access_token': 'YOUR_TWITTER_ACCESS_TOKEN',\n",
    "    'access_token_secret': 'YOUR_TWITTER_ACCESS_TOKEN_SECRET'\n",
    "}\n",
    "\n",
    "extractor = SocialMediaDataExtractor(reddit_credentials, twitter_credentials)\n",
    "\n",
    "# Fetch and store Reddit data\n",
    "reddit_data = extractor.fetch_reddit_data('python', 10)\n",
    "extractor.store_data(reddit_data, 'reddit_data.csv')\n",
    "\n",
    "# Fetch and store Twitter data\n",
    "twitter_data = extractor.fetch_twitter_data('#python', 10)\n",
    "extractor.store_data(twitter_data, 'twitter_data.csv')\n"
   ]
  },
  {
   "cell_type": "code",
   "execution_count": null,
   "metadata": {},
   "outputs": [],
   "source": [
    "# Example usage:\n",
    "# smde = SocialMediaDataExtractor()\n",
    "# reddit_data = smde.fetch_reddit_data('wallstreetbets', 100)\n",
    "# smde.store_data(reddit_data, 'reddit_data.csv')\n",
    "# analysis_results = smde.analyze_data(reddit_data)\n",
    "# smde.visualize_data(analysis_results)"
   ]
  }
 ],
 "metadata": {
  "kernelspec": {
   "display_name": "Python 3",
   "language": "python",
   "name": "python3"
  },
  "language_info": {
   "codemirror_mode": {
    "name": "ipython",
    "version": 3
   },
   "file_extension": ".py",
   "mimetype": "text/x-python",
   "name": "python",
   "nbconvert_exporter": "python",
   "pygments_lexer": "ipython3",
   "version": "3.9.13"
  },
  "orig_nbformat": 4
 },
 "nbformat": 4,
 "nbformat_minor": 2
}
